{
 "cells": [
  {
   "cell_type": "code",
   "execution_count": null,
   "metadata": {
    "collapsed": true
   },
   "outputs": [],
   "source": [
    "root = '/Users/admin/Documents/PhD/Code/perceptual-tuning-results/'\n",
    "\n",
    "mp_folder = root + 'ABX/mp_scores'\n",
    "\n",
    "analysis_folder = root + 'ABX/analyses/RL_AmEnglish/resampling'\n",
    "\n",
    "fig_path = root + 'ABX/figures/rl.pdf'\n",
    "\n",
    "fig_robustness_path = root + 'ABX/figures/rl_robustness.pdf'\n",
    "\n",
    "fig_baselines_ path = root + 'ABX/figures/rl_baselines.pdf'"
   ]
  },
  {
   "cell_type": "code",
   "execution_count": null,
   "metadata": {
    "collapsed": false
   },
   "outputs": [],
   "source": [
    "# Uncomment for development/debugging\n",
    "# %matplotlib inline\n",
    "\n",
    "\n",
    "# Uncomment to plot nice-looking final figures\n",
    "import matplotlib as mpl\n",
    "\n",
    "mpl.style.use('classic')\n",
    "mpl.use(\"pgf\")\n",
    "pgf_with_custom_preamble = {\n",
    "    \"font.family\": \"serif\", # use serif/main font for text elements\n",
    "    \"text.usetex\": True,    # use inline math for ticks\n",
    "    \"pgf.rcfonts\": False,   # don't setup fonts from rc parameters\n",
    "    \"pgf.preamble\": [\n",
    "         \"\\\\usepackage{unicode-math}\",  # unicode math setup\n",
    "         \"\\\\setmainfont{Doulos SIL}\" # serif font via preamble\n",
    "         ]\n",
    "}\n",
    "mpl.rcParams.update(pgf_with_custom_preamble)\n",
    "\n",
    "\n",
    "from scone_phobia import apply_analysis\n",
    "from scone_phobia.utils.mp_scores import estimate_std\n",
    "from scone_phobia.analyses.RL_AmEnglish import RL_AmEnglish as AE_RL\n",
    "import scone_phobia.metadata.add_metadata as add_metadata\n",
    "from scone_phobia.plots.catplot import custom_catplot, set_edgecolor\n",
    "import matplotlib.patches as patches\n",
    "import numpy as np"
   ]
  },
  {
   "cell_type": "markdown",
   "metadata": {},
   "source": [
    "To avoid any issue of dependency that could arise when aggregating estimates of variability of our error estimates and to be able to perform permutation tests, we resample our custom analysis fully, rather than aggregating estimates for uncorrelated variables."
   ]
  },
  {
   "cell_type": "code",
   "execution_count": null,
   "metadata": {
    "collapsed": false
   },
   "outputs": [],
   "source": [
    "\n",
    "dpgmm = 'dpgmm_novtln_vad'\n",
    "\n",
    "# select models relevant for our perceptual tuning study\n",
    "percTun_filt = lambda mp_fname: 'AMtri1_sat_small_LMtri1satsmall' in mp_fname\\\n",
    "                                  or 'mfcc_novtln' in mp_fname\\\n",
    "                                  or dpgmm in mp_fname\n",
    "\n",
    "# For RL we only need to resample mp_files tested on AE\n",
    "RL_filt = lambda mp_fname: percTun_filt(mp_fname) and \\\n",
    "                          ('BUCtest' in mp_fname or 'WSJtest' in mp_fname)\n",
    "\n",
    "analysis = AE_RL\n",
    "\n",
    "# get data\n",
    "df_rl, boot_df_rl = apply_analysis(analysis, mp_folder,\n",
    "                                   filt=RL_filt,\n",
    "                                   add_metadata=add_metadata.language_register,\n",
    "                                   resampling=True,\n",
    "                                   resample_caching_scheme='mp_file',\n",
    "                                   analysis_folder=analysis_folder,\n",
    "                                   pickle_encoding=None,\n",
    "                                   resampled_pickle_encoding=\"latin1\",\n",
    "                                   verbose=0)\n",
    "\n",
    "# we're going to do further aggregation on errors and compute test statistics\n",
    "# so we have no use for the resampled standard deviation estimates for the current errors\n",
    "del df_rl['std']"
   ]
  },
  {
   "cell_type": "code",
   "execution_count": null,
   "metadata": {
    "collapsed": false
   },
   "outputs": [],
   "source": [
    "# Average results into 2 conditions (`Am. Eng. native` vs `Jap. native' models),\n",
    "# averaging over the two AE test sets and two training registers.\n",
    "\n",
    "def condition(df_row):\n",
    "    cols = ['training set', 'training language']\n",
    "    x, lx = [df_row[e] for e in cols]\n",
    "    if x == 'None':\n",
    "        cond = 'No language tuning'  # not applicable\n",
    "    elif lx == 'American English':\n",
    "        cond = 'Am. Eng. native'\n",
    "    else:\n",
    "        cond = 'Jap. native'\n",
    "    return cond\n",
    "\n",
    "\n",
    "def agg_conds(df, df_is_resampled=False):\n",
    "    df['condition'] = [condition(row) for _, row in df.iterrows()]\n",
    "    groupby_cols = ['model type', 'contrast', 'condition']\n",
    "    if df_is_resampled:\n",
    "        # ensure separate analysis for each resample\n",
    "        groupby_cols = groupby_cols + ['batch ID', 'batch size', 'boot ID']\n",
    "    agg_df = df.groupby(groupby_cols, as_index=False).mean()\n",
    "    return agg_df\n",
    "\n",
    "\n",
    "df_cond = agg_conds(df_rl)\n",
    "boot_df_cond = agg_conds(boot_df_rl, df_is_resampled=True)"
   ]
  },
  {
   "cell_type": "code",
   "execution_count": null,
   "metadata": {
    "collapsed": false
   },
   "outputs": [],
   "source": [
    "# Get estimate of standard deviations\n",
    "df = estimate_std(df_cond, boot_df_cond)\n",
    "\n",
    "# As well, for control without averaging over AE test sets and training registers\n",
    "df_control = estimate_std(df_rl, boot_df_rl)"
   ]
  },
  {
   "cell_type": "code",
   "execution_count": null,
   "metadata": {
    "collapsed": false
   },
   "outputs": [],
   "source": [
    "# Utility functions for plots\n",
    "\n",
    "def clean_ticks(facetgrid):\n",
    "    for ax in facetgrid.axes.flatten():\n",
    "        ax.tick_params(axis='both', which='both', width=0, length=0)\n",
    "    facetgrid.despine(left=True)\n",
    "\n",
    "    \n",
    "def set_y_grid(facetgrid):\n",
    "    for ax in facetgrid.axes.flatten():\n",
    "        ax.set_axisbelow(True)\n",
    "        ax.grid(axis='y')\n",
    "\n",
    "        \n",
    "def set_col_titles(facetgrid, col_labels, fontsize=25):\n",
    "    for ax, t in zip(facetgrid.axes.flatten(), col_labels):\n",
    "        ax.set_title(t, fontsize=fontsize)"
   ]
  },
  {
   "cell_type": "code",
   "execution_count": null,
   "metadata": {
    "collapsed": true
   },
   "outputs": [],
   "source": [
    "# Parameters shared across plots\n",
    "err_args = {'ecolor': 'k',\n",
    "            'capsize': 2,\n",
    "            'elinewidth': 2,\n",
    "            'markeredgewidth': 2}"
   ]
  },
  {
   "cell_type": "markdown",
   "metadata": {},
   "source": [
    "### Main figure"
   ]
  },
  {
   "cell_type": "code",
   "execution_count": null,
   "metadata": {
    "collapsed": false
   },
   "outputs": [],
   "source": [
    "palette={'L-R': 'grey', 'W-Y': 'k', 'all_C': 'w'}\n",
    "col_order = ['L-R', 'W-Y', 'all_C']\n",
    "col_labels = ['[\\\\textipa{\\*r}]-[l]', '[w]-[j]', 'C-C']\n",
    "\n",
    "x_order = [dpgmm]\n",
    "x_labels = ['']\n",
    "\n",
    "hue_order = ['Am. Eng. native', 'Jap. native']\n",
    "hue_labels = ['Native', 'Non-native']\n",
    "\n",
    "palette={'Am. Eng. native': 'b', 'Jap. native': 'r'}\n",
    "g, gx_dict = custom_catplot(x=\"model type\", y=\"error\", yerr=\"std\",\n",
    "                            err_args=err_args,\n",
    "                            col=\"contrast\",\n",
    "                            hue=\"condition\",\n",
    "                            data=df,\n",
    "                            kind=\"bar\",\n",
    "                            order=x_order,\n",
    "                            col_order=col_order,\n",
    "                            hue_order=hue_order,\n",
    "                            legend=False,  #True,\n",
    "                            palette=palette,\n",
    "                            aspect=.33)\n",
    "\n",
    "\n",
    "for ax, lab in zip(g.axes.flatten(), col_labels):\n",
    "    ax.set_xticks([])\n",
    "    ax.set_xlabel('')\n",
    "    ax.set_xlim([-.48, .48])\n",
    "    ax.set_ylim([0, 15.5])\n",
    "\n",
    "\n",
    "clean_ticks(g)\n",
    "set_y_grid(g)\n",
    "set_col_titles(g, col_labels, fontsize=25)\n",
    "for tick in g.axes[0,0].yaxis.get_major_ticks():\n",
    "    tick.label.set_fontsize(20)\n",
    "g.set_ylabels('ABX error rate (in \\%)', fontsize=20)\n",
    "\n",
    "g.savefig(fig_path)"
   ]
  },
  {
   "cell_type": "markdown",
   "metadata": {},
   "source": [
    "### Figure showing robustness of the results across training and test sets"
   ]
  },
  {
   "cell_type": "code",
   "execution_count": null,
   "metadata": {
    "collapsed": false
   },
   "outputs": [],
   "source": [
    "# Select only gmm data\n",
    "df_control = df_control[df_control['model type'] == dpgmm]\n",
    "\n",
    "facet_labels = ['[\\\\textipa{\\*r}]-[l]\\nRead test stimuli', '[\\\\textipa{\\*r}]-[l]\\nSpont. test stimuli',\n",
    "                '[w]-[j]\\nRead test stimuli', '[w]-[j]\\nSpont. test stimuli',\n",
    "                'C-C\\nRead test stimuli', 'C-C\\nSpont. test stimuli']\n",
    "x_order = [\"Read\", \"Spontaneous\"]\n",
    "row_order = ['L-R', 'W-Y', 'all_C']\n",
    "col_order = [\"Read\", \"Spontaneous\"]\n",
    "hue_order = [\"American English\", \"Japanese\"]\n",
    "xticklabels = [\"Read training\", \"Spont. training\"]\n",
    "\n",
    "\n",
    "# main part\n",
    "#palette = {e : (my_red if 'diff L' in e else my_blue) for e in df['condition']}\n",
    "g, x_dict = custom_catplot(x=\"training register\", y=\"error\", yerr=\"std\",\n",
    "                           order=x_order,\n",
    "                           col=\"test register\",\n",
    "                           col_order=col_order,\n",
    "                           row=\"contrast\",\n",
    "                           row_order=row_order,\n",
    "                           hue=\"training language\",\n",
    "                           hue_order=hue_order,\n",
    "                           data=df_control,\n",
    "                           kind=\"bar\",\n",
    "                           err_args=err_args,\n",
    "                           legend=False,\n",
    "                           sharex=False,\n",
    "                           aspect=1)\n",
    "\n",
    "# labels, fontsize etc. \n",
    "g.set_xticklabels(xticklabels, fontsize=15)\n",
    "for axes in g.axes:\n",
    "    for tick in axes[0].yaxis.get_major_ticks():\n",
    "        tick.label.set_fontsize(20)\n",
    "g.set_ylabels('ABX error rate (in \\%)', fontsize=18)\n",
    "g.set_xlabels('Training register', fontsize=18)\n",
    "for ax, t in zip(g.axes.flatten(), facet_labels):\n",
    "    ax.tick_params(axis='both', which='both', width=0, length=0)\n",
    "    ax.set_axisbelow(True)\n",
    "    ax.grid(axis='y')\n",
    "    ax.set_title(t, fontsize=20)\n",
    "    ax.set_xlim([-.48, 1.48])\n",
    "    ax.set_yticks(2*np.arange(10))\n",
    "    ax.set_ylim([0, 19])\n",
    "g.despine(left=True)\n",
    "g.fig.tight_layout()\n",
    "\n",
    "\n",
    "g.savefig(fig_robustness_path)"
   ]
  },
  {
   "cell_type": "markdown",
   "metadata": {},
   "source": [
    "### Extended Figure: with baseline and topline"
   ]
  },
  {
   "cell_type": "code",
   "execution_count": null,
   "metadata": {
    "collapsed": false
   },
   "outputs": [],
   "source": [
    "palette={'L-R': 'grey', 'W-Y': 'k', 'all_C': 'w'}\n",
    "col_order = ['L-R', 'W-Y', 'all_C']\n",
    "col_labels = ['[\\\\textipa{\\*r}]-[l]', '[w]-[j]', 'C-C']\n",
    "\n",
    "x_order = [dpgmm, 'AMtri1_sat_small_LMtri1satsmall']\n",
    "x_labels = ['GMM\\n(unsupervised)', 'HMM\\n(supervised)']\n",
    "\n",
    "hue_order = ['Am. Eng. native', 'Jap. native']\n",
    "hue_labels = ['Native', 'Non-native']\n",
    "\n",
    "palette={'Am. Eng. native': 'b', 'Jap. native': 'r'}\n",
    "g, gx_dict = custom_catplot(x=\"model type\", y=\"error\", yerr=\"std\",\n",
    "                            err_args=err_args,\n",
    "                            col=\"contrast\",\n",
    "                            hue=\"condition\",\n",
    "                            data=df,\n",
    "                            kind=\"bar\",\n",
    "                            order=x_order,\n",
    "                            col_order=col_order,\n",
    "                            hue_order=hue_order,\n",
    "                            legend=False,  #True,\n",
    "                            palette=palette,\n",
    "                            aspect=.66)\n",
    "\n",
    "g.set_xticklabels(x_labels, fontsize=12)\n",
    "for ax, lab in zip(g.axes.flatten(), col_labels):\n",
    "    ax.set_xlim([-.48, 1.48])\n",
    "    ax.set_ylim([0, 30])\n",
    "\n",
    "\n",
    "clean_ticks(g)\n",
    "set_y_grid(g)\n",
    "set_col_titles(g, col_labels, fontsize=25)\n",
    "for tick in g.axes[0,0].yaxis.get_major_ticks():\n",
    "    tick.label.set_fontsize(20)\n",
    "g.set_ylabels('ABX error rate (in \\%)', fontsize=20)\n",
    "g.set_xlabels('Model', fontsize=15)\n",
    "\n",
    "# prepare baseline data\n",
    "baseline_data = [df[(df['contrast'] == con) & (df[\"model type\"] == 'mfcc_novtln')]\n",
    "                     for con in col_order]  # order must match order of columns\n",
    "baseline_data = [(float(s['error']), float(s['std'])) for s in baseline_data]\n",
    "\n",
    "# draw baseline\n",
    "for ax, (mfcc_err, mfcc_std) in zip(g.axes.flatten(), baseline_data):\n",
    "    mi, ma = ax.get_xlim()\n",
    "    # plot dotted line\n",
    "    line = ax.plot([mi, ma], [mfcc_err, mfcc_err], 'k--')\n",
    "    # put in background\n",
    "    line[0].set_zorder(0)\n",
    "    # add error-bands\n",
    "    rect = patches.Rectangle((mi,mfcc_err-mfcc_std), ma-mi, 2*mfcc_std,\n",
    "                              edgecolor=(.8, .8, .8, 1),\n",
    "                              facecolor=(.8, .8, .8, 1))\n",
    "    # put error-bands in background\n",
    "    rect.set_zorder(0)\n",
    "    ax.add_patch(rect)\n",
    "\n",
    "\n",
    "g.savefig(fig_baselines_path)"
   ]
  }
 ],
 "metadata": {
  "kernelspec": {
   "display_name": "Python 3",
   "language": "python",
   "name": "python3"
  },
  "language_info": {
   "codemirror_mode": {
    "name": "ipython",
    "version": 3
   },
   "file_extension": ".py",
   "mimetype": "text/x-python",
   "name": "python",
   "nbconvert_exporter": "python",
   "pygments_lexer": "ipython3",
   "version": "3.5.6"
  }
 },
 "nbformat": 4,
 "nbformat_minor": 0
}
