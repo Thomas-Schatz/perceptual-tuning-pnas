{
 "cells": [
  {
   "cell_type": "code",
   "execution_count": null,
   "metadata": {
    "collapsed": true
   },
   "outputs": [],
   "source": [
    "root = '/Users/admin/Documents/PhD/Code/perceptual-tuning-results/'\n",
    "\n",
    "fig_path = root + 'rala/figures/rl_input_amount.pdf'"
   ]
  },
  {
   "cell_type": "markdown",
   "metadata": {},
   "source": [
    "# DPGMM novtln and synthetic ra/la"
   ]
  },
  {
   "cell_type": "code",
   "execution_count": null,
   "metadata": {
    "collapsed": false
   },
   "outputs": [],
   "source": [
    "#%matplotlib inline\n",
    "# Uncomment to plot finalized figures\n",
    "\n",
    "import matplotlib as mpl\n",
    "mpl.use(\"pgf\")\n",
    "pgf_with_custom_preamble = {\n",
    "    \"font.family\": \"serif\", # use serif/main font for text elements\n",
    "    \"text.usetex\": True,    # use inline math for ticks\n",
    "    \"pgf.rcfonts\": False,   # don't setup fonts from rc parameters\n",
    "    \"pgf.preamble\": [\n",
    "         \"\\\\usepackage{unicode-math}\",  # unicode math setup\n",
    "         \"\\\\setmainfont{Doulos SIL}\" # serif font via preamble\n",
    "         ]\n",
    "}\n",
    "mpl.rcParams.update(pgf_with_custom_preamble)\n",
    "\n",
    "import rala.read_features as read_features\n",
    "import rala.dis\n",
    "import rala.dis_fn as dis_fn\n",
    "import rala.infant_xp as infant_xp\n",
    "import os.path as path\n",
    "import os\n",
    "import h5features as h5f\n",
    "import re\n",
    "import pandas as pd\n",
    "import numpy as np\n",
    "import seaborn as sns"
   ]
  },
  {
   "cell_type": "code",
   "execution_count": null,
   "metadata": {
    "collapsed": false
   },
   "outputs": [],
   "source": [
    "# compute dissimilarity between features\n",
    "\n",
    "def compute_dis(feat_path, segments_path, dissimilarity, dis_path, item_name=None):\n",
    "    model_rep = read_features.read(feat_path, segments_path)\n",
    "    if item_name is None:\n",
    "        assert len(model_rep) == 1\n",
    "        item_name = list(model_rep.keys())[0]\n",
    "    dis, stim_order = rala.dis.compute_dis(model_rep[item_name], dissimilarity)\n",
    "    rala.dis.write_dis(dis, stim_order, dis_path)\n",
    "\n",
    "def precompute_dis(feat_folder, segments_path, dis_name):\n",
    "    dissimilarity = rala.dis_fn.get_dissimilarity(dis_name)\n",
    "    for feat_file in os.listdir(feat_folder):\n",
    "        if feat_file[-9:] == '.features':\n",
    "            feat_path = path.join(feat_folder, feat_file)\n",
    "            with h5f.Reader(feat_path) as reader:\n",
    "                items = reader.items.data\n",
    "            for item in items:\n",
    "                item_str = item.decode('UTF-8')\n",
    "                # parse item name\n",
    "                feat = feat_file[:-9]\n",
    "                res_id=\"{}FEAT__{}DIS\".format(feat, dis_name)\n",
    "                dis_path = path.join(root, 'dis', res_id + '.txt')\n",
    "                if not(path.exists(dis_path)):\n",
    "                    compute_dis(feat_path, segments_path, dissimilarity, dis_path, item_name=item)\n",
    "                \n",
    "        \n",
    "\n",
    "\n",
    "feat_folder = path.join(root, 'rala', 'features')\n",
    "segments_path = path.join(root, 'rala', 'stim', 'segments.txt')\n",
    "dis_name = 'kl_dtw'  #'cos_dtw'\n",
    "precompute_dis(feat_folder, segments_path, dis_name)"
   ]
  },
  {
   "cell_type": "code",
   "execution_count": null,
   "metadata": {
    "collapsed": false
   },
   "outputs": [],
   "source": [
    "# assemble data\n",
    "\n",
    "\n",
    "def parse_res_id(res_id):\n",
    "    corpora = {'WSJ': ('American English', 'Read'),\n",
    "               'CSJ': ('Japanese', 'Spontaneous'),\n",
    "               'GPJ': ('Japanese', 'Read'),\n",
    "               'BUC': ('American English', 'Spontaneous')\n",
    "              }\n",
    "    res = re.match(r'(.*)FEAT__(.*)DIS', res_id)\n",
    "    feat, dis = res.group(1), res.group(2)\n",
    "    if 'inputfeats' in feat:\n",
    "        input_amount, training_lang, training_reg, training_set = 0, None, None, None\n",
    "        model_type = feat\n",
    "    else:\n",
    "        # ad hoc\n",
    "        if np.char.isnumeric(feat[-1]):\n",
    "            res = re.match(r'(.*)_(.*)_(.*)_(.*)', feat)\n",
    "            model_type, training_set, input_amount, input_id = \\\n",
    "                res.group(1), res.group(2), res.group(3), res.group(4)\n",
    "            input_amount = 1/float(input_amount)\n",
    "            training_lang, training_reg = corpora[training_set]\n",
    "            training_set = training_set + '_' + input_id\n",
    "        else:\n",
    "            res = re.match(r'(.*)_(.*)', feat)\n",
    "            model_type, training_set = res.group(1), res.group(2)\n",
    "            input_amount = 1\n",
    "            training_lang, training_reg = corpora[training_set]\n",
    "    descr = {'input amount': input_amount, 'model type': model_type, 'training language': training_lang,\n",
    "             'training register': training_reg, 'training set': training_set,\n",
    "             'dis': dis}\n",
    "    return descr\n",
    "\n",
    "\n",
    "#adult xp conds\n",
    "conds = ['American English', 'Japanese', 'German', 'init grid']\n",
    "\n",
    "data = {'infant d': [], 'infant scale': [],\n",
    "        'model type': [], 'input amount': [], 'training language': [],\n",
    "        'training register': [], 'training set': [], 'dis': []}\n",
    "\n",
    "dis_folder = path.join(root, 'dis')\n",
    "for i, dis_file in enumerate(os.listdir(dis_folder)):\n",
    "    if dis_file[-4:] == '.txt':\n",
    "        dis_path = path.join(dis_folder, dis_file)\n",
    "        res_id = dis_file[:-4]\n",
    "        descr = parse_res_id(res_id)\n",
    "        for descr_key in descr:\n",
    "            data[descr_key].append(descr[descr_key])\n",
    "        try:\n",
    "            infant_xp_dis, infant_xp_scale = infant_xp.simulate(dis_path)\n",
    "        except Exception as e:\n",
    "            print('Infant')\n",
    "            print(dis_file)\n",
    "            print(e)\n",
    "            infant_xp_dis, infant_xp_scale = np.nan, np.nan\n",
    "        data['infant d'].append(infant_xp_dis)\n",
    "        data['infant scale'].append(infant_xp_scale)\n",
    "\n",
    "data = pd.DataFrame(data)     \n",
    "data.to_csv(path.join(root, 'data_kldtw.txt'))"
   ]
  },
  {
   "cell_type": "code",
   "execution_count": null,
   "metadata": {
    "collapsed": false
   },
   "outputs": [],
   "source": [
    "feat_folder = path.join(root, 'features')\n",
    "segments_path = path.join(root, 'stim', 'segments.txt')\n",
    "dis_name = 'kl_dtw'  #'cos_dtw'\n",
    "data = pd.read_csv(path.join(root, 'data_kldtw.txt'))"
   ]
  },
  {
   "cell_type": "code",
   "execution_count": null,
   "metadata": {
    "collapsed": false
   },
   "outputs": [],
   "source": [
    "df = data[(data['model type'] == 'dpgmm_novtln_vad')].copy()\n",
    "df['infant raw d'] = df['infant d']*df['infant scale']\n",
    "df['training corpus'] = [e[:3] if e else e for e in df['training set']]\n",
    "\n",
    "def f(amount, corpus):\n",
    "    training_amount = {'WSJ': 19*3600+30*60, 'GPJ': 19*3600+33*60, \n",
    "                       'BUC': 9*3600+13*60, 'CSJ': 9*3600+11*60}  # rounded to the minute\n",
    "    return training_amount[corpus]*amount\n",
    "\n",
    "df['training amount'] = [f(amount, corpus)\n",
    "                               for amount, corpus in zip(df['input amount'], df['training corpus'])]\n",
    "\n",
    "df['d in bits'] = df['infant raw d']/np.log(2)  # to get KL div in bit units (does not make sense for other dissimilarity functions)"
   ]
  },
  {
   "cell_type": "code",
   "execution_count": null,
   "metadata": {
    "collapsed": false
   },
   "outputs": [],
   "source": [
    "facet_labels = ['Original experimental stimuli\\n American English [\\\\textipa{\\*r}]-[l]']\n",
    "\n",
    "colors = [\"blue\", \"blue\", \"red\", \"red\"]\n",
    "palette = sns.xkcd_palette(colors)\n",
    "\n",
    "g = sns.relplot(x=\"training amount\", y=\"d in bits\", kind=\"line\",\n",
    "                hue=\"training corpus\",\n",
    "                hue_order=['WSJ', 'BUC', 'GPJ', 'CSJ'],\n",
    "                size=\"training corpus\",\n",
    "                size_order=['WSJ', 'BUC', 'GPJ', 'CSJ'],\n",
    "                sizes=[1, 1, 1, 1],\n",
    "                style=\"training corpus\",\n",
    "                style_order=['WSJ', 'BUC', 'GPJ', 'CSJ'],\n",
    "                dashes=[(9999,1), (10,3), (9999,1), (10,3)],\n",
    "                markers=['s', 'D', 's', 'D'],\n",
    "                markersize=10,\n",
    "                col='dis',\n",
    "                col_order = ['kl_dtw'],\n",
    "                #units=\"Subcorpus group\", estimator=None,\n",
    "                data=df,\n",
    "                legend=False,\n",
    "                palette=palette)\n",
    "\n",
    "g = g.set(xscale=\"log\")\n",
    "for ax in g.axes.flatten():\n",
    "    ax.grid()\n",
    "g.set(xticks=[60, 600, 3600, 36000])\n",
    "g.set_xticklabels(['1min', '10min', '1h', '10h'], fontsize=15)\n",
    "for axes in g.axes:\n",
    "    for tick in axes[0].yaxis.get_major_ticks():\n",
    "        tick.label.set_fontsize(20)\n",
    "g.set_ylabels('Dissimilarity (in bits)', fontsize=20)\n",
    "g.set_xlabels('Training set size', fontsize=20)\n",
    "for ax, t in zip(g.axes.flatten(), facet_labels):\n",
    "    ax.tick_params(axis='both', which='both', width=0, length=0)\n",
    "    ax.set_axisbelow(True)\n",
    "    ax.set_title(t, fontsize=20)\n",
    "#g.despine(left=True, bottom=True)\n",
    "# y range set to half that for fig2?\n",
    "g.axes[0,0].set_ylim([0, 10])\n",
    "g.fig.tight_layout()\n",
    "\n",
    "g.savefig(fig_path)"
   ]
  }
 ],
 "metadata": {
  "kernelspec": {
   "display_name": "Python 3",
   "language": "python",
   "name": "python3"
  },
  "language_info": {
   "codemirror_mode": {
    "name": "ipython",
    "version": 3
   },
   "file_extension": ".py",
   "mimetype": "text/x-python",
   "name": "python",
   "nbconvert_exporter": "python",
   "pygments_lexer": "ipython3",
   "version": "3.5.6"
  }
 },
 "nbformat": 4,
 "nbformat_minor": 0
}
