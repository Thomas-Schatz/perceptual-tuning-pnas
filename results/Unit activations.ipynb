{
 "cells": [
  {
   "cell_type": "code",
   "execution_count": null,
   "metadata": {
    "collapsed": true
   },
   "outputs": [],
   "source": [
    "root = '/Users/admin/Documents/PhD/Code/perceptual-tuning-results/'"
   ]
  },
  {
   "cell_type": "code",
   "execution_count": null,
   "metadata": {
    "collapsed": true
   },
   "outputs": [],
   "source": [
    "# Uncomment for development/debugging\n",
    "%matplotlib inline\n",
    "\n",
    "\n",
    "# Uncomment to plot finalized figures\n",
    "\"\"\"\n",
    "import matplotlib as mpl\n",
    "mpl.use(\"pgf\")\n",
    "pgf_with_custom_preamble = {\n",
    "    \"font.family\": \"serif\", # use serif/main font for text elements\n",
    "    \"text.usetex\": True,    # use inline math for ticks\n",
    "    \"pgf.rcfonts\": False,   # don't setup fonts from rc parameters\n",
    "    \"pgf.preamble\": [\n",
    "         \"\\\\usepackage{unicode-math}\",  # unicode math setup\n",
    "         \"\\\\setmainfont{Doulos SIL}\" # serif font via preamble\n",
    "         ]\n",
    "}\n",
    "mpl.rcParams.update(pgf_with_custom_preamble)\n",
    "\"\"\"\n",
    "\n",
    "import pandas as pd\n",
    "import os.path as path\n",
    "import numpy as np\n",
    "import pandas as pd\n",
    "import seaborn\n"
   ]
  },
  {
   "cell_type": "markdown",
   "metadata": {},
   "source": [
    "# Forced alignment"
   ]
  },
  {
   "cell_type": "code",
   "execution_count": null,
   "metadata": {
    "collapsed": false
   },
   "outputs": [],
   "source": [
    "# Forced alignment phone durations"
   ]
  },
  {
   "cell_type": "code",
   "execution_count": null,
   "metadata": {
    "collapsed": false
   },
   "outputs": [],
   "source": [
    "corpora = ['WSJ', 'GPJ']\n",
    "durs = {}\n",
    "for corpus in corpora:\n",
    "    durs[corpus] = pd.read_csv(path.join(root + 'no_phon_cats/unit_activation', 'forced_alignment_durs_{}.txt'.format(corpus)), index_col=0)"
   ]
  },
  {
   "cell_type": "code",
   "execution_count": null,
   "metadata": {
    "collapsed": false
   },
   "outputs": [],
   "source": [
    "# duration by averaging first on speakers then on phones\n",
    "for corpus in durs:\n",
    "    print('{}: {}'.format(corpus, durs[corpus].groupby(['phone']).mean().mean()))\n",
    "\n",
    "# standard deviation of speaker average across phones\n",
    "for corpus in durs:\n",
    "    print('{}: {}'.format(corpus, durs[corpus].groupby(['phone']).mean().std()))\n",
    "\n",
    "    \n",
    "# standard deviation of phone average across speakers\n",
    "for corpus in durs:\n",
    "    print('{}: {}'.format(corpus, durs[corpus].groupby(['spk']).mean().std()))\n",
    "\n",
    "    \n",
    "# standard deviation across phones and speakers\n",
    "for corpus in durs:\n",
    "    print('{}: {}'.format(corpus, durs[corpus].std()))\n",
    "\n",
    "# conclusion reg. variability: speaker estimate very reliable, but there is some variability from one phone to another\n"
   ]
  },
  {
   "cell_type": "code",
   "execution_count": null,
   "metadata": {
    "collapsed": false
   },
   "outputs": [],
   "source": [
    "(0.097518+0.087964)/4. # -> take +/- 46ms window for our phone rep analyses"
   ]
  },
  {
   "cell_type": "code",
   "execution_count": null,
   "metadata": {
    "collapsed": false
   },
   "outputs": [],
   "source": [
    "# Check no silence included:\n",
    "[set(durs[corpus]['phone']) for corpus in durs]"
   ]
  },
  {
   "cell_type": "markdown",
   "metadata": {
    "collapsed": true
   },
   "source": [
    "# Activation"
   ]
  },
  {
   "cell_type": "code",
   "execution_count": null,
   "metadata": {
    "collapsed": false
   },
   "outputs": [],
   "source": [
    "def read_unit_ids(root, train_corpus):\n",
    "    test_corpora = {'WSJ': 'WSJ', 'BUC': 'WSJ', 'GPJ': 'GPJ', 'CSJ': 'GPJ'}\n",
    "    test_corpus = test_corpora[train_corpus]\n",
    "    unit_ids = {'unit': [], 'model': [], 'info': [], 'train': []}\n",
    "    model = 'hmm_state'\n",
    "    filename = path.join(root, 'activation_{}_{}_skip0_basic_{}_info.txt'.format(train_corpus,\n",
    "                                                                                 test_corpus,\n",
    "                                                                                 model))\n",
    "    with open(filename, 'r') as fh:\n",
    "        for i, line in enumerate(fh):\n",
    "            phone, hmm_state, pdf_id = line.strip().split()\n",
    "            hmm_state, pdf_id = int(hmm_state), int(pdf_id)\n",
    "            unit_ids['unit'].append(i)\n",
    "            unit_ids['model'].append('HMM-state')\n",
    "            unit_ids['info'].append((phone, hmm_state, pdf_id))\n",
    "            unit_ids['train'].append(train_corpus)\n",
    "    model = 'hmm_phone'\n",
    "    filename = path.join(root, 'activation_{}_{}_skip0_basic_{}_info.txt'.format(train_corpus,\n",
    "                                                                                 test_corpus,\n",
    "                                                                                 model))\n",
    "    with open(filename, 'r') as fh:\n",
    "        lines = fh.readlines()\n",
    "    assert len(lines) == 1\n",
    "    phones = lines[0].strip().split()\n",
    "    for i, phone in enumerate(phones):\n",
    "        unit_ids['unit'].append(i)\n",
    "        unit_ids['model'].append('HMM-phone')\n",
    "        unit_ids['info'].append(phone)\n",
    "        unit_ids['train'].append(train_corpus)\n",
    "    return pd.DataFrame(unit_ids)"
   ]
  },
  {
   "cell_type": "markdown",
   "metadata": {},
   "source": [
    "## Duration"
   ]
  },
  {
   "cell_type": "code",
   "execution_count": null,
   "metadata": {
    "collapsed": false
   },
   "outputs": [],
   "source": [
    "def read_durs(res_file, avg=True):\n",
    "    durs = []\n",
    "    with open(res_file, 'r') as fh:\n",
    "        for line in fh:\n",
    "            durations = [float(e) for e  in line.strip().split()]\n",
    "            if avg:\n",
    "                if durations:\n",
    "                    durations = np.mean(durations)\n",
    "                else:\n",
    "                    durations = np.nan\n",
    "            durs.append(durations)\n",
    "    return durs\n",
    "\n",
    "def format_durs(root, file_template):\n",
    "    data = {'train': [], 'test': [], 'model': [], 'duration': [], 'unit': []}\n",
    "    for train, test in [('WSJ', 'WSJ'), ('BUC', 'WSJ'), ('GPJ', 'GPJ'), ('CSJ', 'GPJ')]:\n",
    "            for model in ['GMM', 'HMM-phone', 'HMM-state']:\n",
    "                res_file = path.join(root, file_template.format(train, test, model))\n",
    "                for i, duration in enumerate(read_durs(res_file)):\n",
    "                    data['train'].append(train)\n",
    "                    data['test'].append(test)\n",
    "                    data['model'].append(model)\n",
    "                    data['duration'].append(duration)\n",
    "                    data['unit'].append(i)\n",
    "    data = pd.DataFrame(data)\n",
    "    return data\n",
    "\n",
    "def get_data(root, analysis_type, skip, cond='all-utts'):\n",
    "    template = 'activation_{}_{}_skip' + str(skip) + '_' + analysis_type + '_duration_{}_' + cond + '.txt'\n",
    "    data = format_durs(root, template)\n",
    "    corpora = ['WSJ', 'BUC', 'GPJ', 'CSJ']\n",
    "    unit_ids = pd.concat([read_unit_ids(root, corpus) for corpus in corpora])\n",
    "    unit_ids\n",
    "    data= pd.merge(data, unit_ids, on=['model', 'unit', 'train'], how='outer')\n",
    "    return data\n"
   ]
  },
  {
   "cell_type": "code",
   "execution_count": null,
   "metadata": {
    "collapsed": false,
    "scrolled": true
   },
   "outputs": [],
   "source": [
    "data=get_data(root + 'no_phon_cats/unit_activation', 'basic', 0, cond='no-sil-utts')\n",
    "data.to_csv(root + 'no_phon_cats/results/dur.txt')"
   ]
  },
  {
   "cell_type": "markdown",
   "metadata": {},
   "source": [
    "### Duration 1-2h models"
   ]
  },
  {
   "cell_type": "code",
   "execution_count": null,
   "metadata": {
    "collapsed": true
   },
   "outputs": [],
   "source": [
    "def format_durs(root, file_template):\n",
    "    data = {'train': [], 'test': [], 'model': [], 'duration': [], 'unit': []}\n",
    "    for batch in ['_10_{}'.format(i) for i in range(1, 11)]:  # ad hoc...\n",
    "        for train, test in [('WSJ', 'WSJ'), ('BUC', 'WSJ'), ('GPJ', 'GPJ'), ('CSJ', 'GPJ')]:\n",
    "                for model in ['GMM']:   \n",
    "                    res_file = path.join(root, file_template.format(train+batch, test, model))\n",
    "                    for i, duration in enumerate(read_durs(res_file)):\n",
    "                        data['train'].append(train+batch)\n",
    "                        data['test'].append(test)\n",
    "                        data['model'].append(model)\n",
    "                        data['duration'].append(duration)\n",
    "                        data['unit'].append(i)\n",
    "    data = pd.DataFrame(data)\n",
    "    return data\n",
    "\n",
    "def get_data(root, analysis_type, skip, cond='all-utts'):\n",
    "    template = 'activation_{}_{}_skip' + str(skip) + '_' + analysis_type + '_duration_{}_' + cond + '.txt'\n",
    "    data = format_durs(root, template)\n",
    "    return data"
   ]
  },
  {
   "cell_type": "code",
   "execution_count": null,
   "metadata": {
    "collapsed": false
   },
   "outputs": [],
   "source": [
    "data=get_data(root + 'no_phon_cats_1h/unit_activation', 'basic', 0, cond='no-sil-utts')\n",
    "data.to_csv(root + 'no_phon_cats_1h/results/dur.txt')"
   ]
  }
 ],
 "metadata": {
  "kernelspec": {
   "display_name": "Python 3",
   "language": "python",
   "name": "python3"
  },
  "language_info": {
   "codemirror_mode": {
    "name": "ipython",
    "version": 3
   },
   "file_extension": ".py",
   "mimetype": "text/x-python",
   "name": "python",
   "nbconvert_exporter": "python",
   "pygments_lexer": "ipython3",
   "version": "3.5.6"
  }
 },
 "nbformat": 4,
 "nbformat_minor": 0
}
