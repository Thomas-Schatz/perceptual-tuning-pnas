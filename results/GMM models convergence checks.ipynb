{
 "cells": [
  {
   "cell_type": "code",
   "execution_count": null,
   "metadata": {
    "collapsed": true
   },
   "outputs": [],
   "source": [
    "base_root = '/Users/admin/Documents/PhD/Code/perceptual-tuning-results/'"
   ]
  },
  {
   "cell_type": "code",
   "execution_count": null,
   "metadata": {
    "collapsed": true
   },
   "outputs": [],
   "source": [
    "# Uncomment for development/debugging\n",
    "\"\"\"\n",
    "%matplotlib inline\n",
    "\"\"\"\n",
    "\n",
    "\n",
    "# Uncomment to plot finalized figures\n",
    "\n",
    "import matplotlib as mpl\n",
    "mpl.use(\"pgf\")\n",
    "pgf_with_custom_preamble = {\n",
    "    \"font.family\": \"serif\", # use serif/main font for text elements\n",
    "    \"text.usetex\": True,    # use inline math for ticks\n",
    "    \"pgf.rcfonts\": False,   # don't setup fonts from rc parameters\n",
    "    \"pgf.preamble\": [\n",
    "         \"\\\\usepackage{unicode-math}\",  # unicode math setup\n",
    "         \"\\\\setmainfont{Doulos SIL}\" # serif font via preamble\n",
    "         ]\n",
    "}\n",
    "mpl.rcParams.update(pgf_with_custom_preamble)\n",
    "\n",
    "\n",
    "import scipy.io as io\n",
    "import os.path as path\n",
    "import numpy as np\n",
    "import pandas as pd\n",
    "import matplotlib.pyplot as plt\n",
    "import seaborn"
   ]
  },
  {
   "cell_type": "code",
   "execution_count": null,
   "metadata": {
    "collapsed": false
   },
   "outputs": [],
   "source": [
    "root = base_root + 'convergence/results'\n",
    "df_cat = pd.read_csv(path.join(root, 'nb_cat.txt'))\n",
    "del df_cat['Unnamed: 0']\n",
    "df_cat = df_cat.rename(columns={'nb_cat': 'y', 'nb_iter': 'x', 'train': 'Training set'})\n",
    "df_cat['measurement'] = 'nb categories'\n",
    "\n",
    "data = df_cat\n",
    "\n",
    "def switch(s):\n",
    "    if s=='BUC':\n",
    "        return 'Spont. Am.Eng.'\n",
    "    elif s=='CSJ':\n",
    "        return 'Spont. Jap.'\n",
    "    elif s=='GPJ':\n",
    "        return 'Read Jap.'\n",
    "    elif s=='WSJ':\n",
    "        return 'Read Am.Eng.'\n",
    "\n",
    "data['Training set'] = [switch(s) for s in data['Training set']]"
   ]
  },
  {
   "cell_type": "code",
   "execution_count": null,
   "metadata": {
    "collapsed": false
   },
   "outputs": [],
   "source": [
    "g = seaborn.relplot(data=data, y='y', x='x', col='split_factor',\n",
    "                    hue='Training set', style='Training set', kind='line', markers=True,\n",
    "                    row='measurement',\n",
    "                    facet_kws={'sharey': False, 'sharex': True},\n",
    "                    row_order=['nb categories'],\n",
    "                    col_order=[1000, 100, 10, 1],\n",
    "                    hue_order=['Read Am.Eng.', 'Spont. Am.Eng.', 'Read Jap.', 'Spont. Jap.'],\n",
    "                    legend=False, markersize=10)\n",
    "\n",
    "_ = g.axes[0,0].set_ylabel('Nb learned units', fontsize=25)\n",
    "#_ = g.axes[1,0].set_ylabel('ABX error rate (in $\\%$)')\n",
    "#for ax in g.axes[1,:]:\n",
    "#    ax.set_ylim([0, 33])\n",
    "titles = ['Models trained on\\n $1/1000^{th}$ subsets',\n",
    "          'Models trained on\\n $1/100^{th}$ subsets',\n",
    "          'Models trained on\\n $1/10^{th}$ subsets',\n",
    "          'Models trained on\\n full corpus']\n",
    "for ax, t in zip(g.axes[0,:], titles):\n",
    "    ax.set_title(t, fontsize=25)\n",
    "    ax.set_xlabel('Nb sampling iterations', fontsize=25)\n",
    "    for tick in ax.yaxis.get_major_ticks():\n",
    "        tick.label.set_fontsize(22)\n",
    "    ax.xaxis.set_ticks([0, 500, 1000, 1500])\n",
    "    for tick in ax.xaxis.get_major_ticks():\n",
    "        tick.label.set_fontsize(22) \n",
    "\n",
    "\n",
    "g.fig.tight_layout()\n",
    "out=base_root + \"convergence/figures/main.pdf\"\n",
    "g.savefig(out)"
   ]
  }
 ],
 "metadata": {
  "kernelspec": {
   "display_name": "Python 3",
   "language": "python",
   "name": "python3"
  },
  "language_info": {
   "codemirror_mode": {
    "name": "ipython",
    "version": 3
   },
   "file_extension": ".py",
   "mimetype": "text/x-python",
   "name": "python",
   "nbconvert_exporter": "python",
   "pygments_lexer": "ipython3",
   "version": "3.5.6"
  }
 },
 "nbformat": 4,
 "nbformat_minor": 0
}
